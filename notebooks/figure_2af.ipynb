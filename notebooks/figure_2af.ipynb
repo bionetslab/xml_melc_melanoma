{
 "cells": [
  {
   "cell_type": "code",
   "execution_count": 14,
   "id": "45226f80-0ca4-408e-b98b-ee47bf92fb6c",
   "metadata": {
    "scrolled": true
   },
   "outputs": [],
   "source": [
    "import pandas as pd\n",
    "import numpy as np\n",
    "from sklearn.ensemble import RandomForestClassifier\n",
    "import seaborn as sns\n",
    "import sys\n",
    "import matplotlib.pyplot as plt\n",
    "from matplotlib.patches import Patch\n",
    "sys.path.append(\"..\")\n",
    "from src import *"
   ]
  },
  {
   "cell_type": "code",
   "execution_count": 15,
   "id": "a7aee513-933c-473b-8f80-7b509a409c75",
   "metadata": {},
   "outputs": [
    {
     "name": "stdout",
     "output_type": "stream",
     "text": [
      "The autoreload extension is already loaded. To reload it, use:\n",
      "  %reload_ext autoreload\n"
     ]
    }
   ],
   "source": [
    "%load_ext autoreload\n",
    "%autoreload 2"
   ]
  },
  {
   "cell_type": "code",
   "execution_count": 16,
   "id": "9812338c-f251-482c-960e-5a20505aac90",
   "metadata": {},
   "outputs": [],
   "source": [
    "blue = sns.color_palette(\"colorblind\")[0]\n",
    "pink = sns.color_palette(\"colorblind\")[4] "
   ]
  },
  {
   "cell_type": "code",
   "execution_count": 17,
   "id": "12a13968-afb2-4582-9f0d-93dfa21c038d",
   "metadata": {},
   "outputs": [],
   "source": [
    "base = \"/data/bionets\" if \"ramses\" in os.uname()[1] else \"/data_nfs/\""
   ]
  },
  {
   "cell_type": "code",
   "execution_count": 18,
   "id": "d096e2a7-1279-4f46-97df-3bbb7ab819a1",
   "metadata": {},
   "outputs": [],
   "source": [
    "data = get_data_csv(high_quality_only=False, pfs=True, config_path=os.path.join(base, \"je30bery/archive/melanoma_data/config.json\"))\n",
    "data = data.reset_index().drop(\"index\", axis=1)\n",
    "\n",
    "data[\"Sex\"].replace({\"m\": 1., \"f\": 0.}, inplace=True)\n",
    "data[\"Ulcerated\"].replace({True: 1., False: 0.}, inplace=True)"
   ]
  },
  {
   "cell_type": "code",
   "execution_count": 19,
   "id": "3826aebc-d981-4c0a-bdce-1daa59a4c859",
   "metadata": {},
   "outputs": [
    {
     "data": {
      "text/plain": [
       "(array([0., 1.]), array([97, 15]))"
      ]
     },
     "execution_count": 19,
     "metadata": {},
     "output_type": "execute_result"
    }
   ],
   "source": [
    "np.unique(data[\"PFS < 5\"], return_counts=True)"
   ]
  },
  {
   "cell_type": "code",
   "execution_count": 20,
   "id": "7d3ff384-578c-4ed2-a5c8-e6e034395282",
   "metadata": {},
   "outputs": [],
   "source": [
    "pfs0_pats = data[data[\"PFS < 5\"] == 0][\"Patient ID\"]\n",
    "pfs1_pats = data[data[\"PFS < 5\"] == 0][\"Patient ID\"]\n",
    "palette = {pat: blue for pat in pfs0_pats}.update({pat: pink for pat in pfs1_pats})"
   ]
  },
  {
   "cell_type": "code",
   "execution_count": 21,
   "id": "83abbcd3-b66a-41e7-a644-eec1c55285da",
   "metadata": {},
   "outputs": [],
   "source": [
    "def plot_samples_distri(ax):\n",
    "    pos = np.unique(data[data[\"PFS < 5\"] == 1][\"Patient ID\"])\n",
    "    neg = np.unique(data[data[\"PFS < 5\"] == 0][\"Patient ID\"])\n",
    "    palette = {pat: pink for i, pat in enumerate(pos)}\n",
    "    palette.update({pat: blue for i, pat in enumerate(neg)})\n",
    "    \n",
    "    sns.histplot(data, x=\"PFS < 5\", hue=\"Patient ID\", multiple=\"stack\", bins=2, legend=False, palette=palette, ax=ax)\n",
    "    ax.set_xticks(ticks=[0.25,0.75], labels=[\"PFS ≥ 5\", \"PFS < 5\"])\n",
    "    #ax.set_title(\"Samples colored by patient ID\")\n",
    "    #plt.savefig(\"data_overview.png\")\n",
    "    return ax"
   ]
  },
  {
   "cell_type": "code",
   "execution_count": 22,
   "id": "5fd28f55-6c1c-4e4e-8a58-b4d63ec6e652",
   "metadata": {},
   "outputs": [],
   "source": [
    "def plot_thickness(ax):\n",
    "    palette = {\"PFS ≥ 5\": blue, \n",
    "               \"PFS < 5\": pink}\n",
    "    sns.histplot(data.replace({0: \"PFS ≥ 5\", 1: \"PFS < 5\"}), x=\"Tumor Thickness [mm]\", hue=\"PFS < 5\", palette=palette, multiple=\"layer\", ax=ax)\n",
    "    #plt.savefig(\"thickness_by_label.png\")\n",
    "    return ax"
   ]
  },
  {
   "cell_type": "code",
   "execution_count": 23,
   "id": "373ee96e-6a00-4499-b3cc-135128a24830",
   "metadata": {},
   "outputs": [
    {
     "data": {
      "image/png": "[encoded data removed]",
      "text/plain": [
       "<Figure size 170x300 with 1 Axes>"
      ]
     },
     "metadata": {},
     "output_type": "display_data"
    }
   ],
   "source": [
    "f, ax = plt.subplots(1, figsize=(1.7, 3))\n",
    "ax = plot_samples_distri(ax)\n",
    "ax.set_ylabel(\"Number of MELC images\")\n",
    "plt.savefig(\"../result_plots/sample_distri.svg\", bbox_inches=\"tight\")"
   ]
  },
  {
   "cell_type": "code",
   "execution_count": 24,
   "id": "11750429-2a16-42c0-87aa-d50911cc2700",
   "metadata": {},
   "outputs": [
    {
     "data": {
      "image/png": "[encoded data removed]",
      "text/plain": [
       "<Figure size 250x250 with 1 Axes>"
      ]
     },
     "metadata": {},
     "output_type": "display_data"
    }
   ],
   "source": [
    "f, ax = plt.subplots(1, figsize=(2.5, 2.5))\n",
    "ax = plot_thickness(ax)\n",
    "\n",
    "palette = {\"PFS ≥ 5\": blue, \"PFS < 5\": pink}\n",
    "legend_handles = [Patch(color=color, label=key) for key, color in palette.items()]\n",
    "plt.legend(handles=legend_handles, frameon=True)\n",
    "\n",
    "ax.set_ylabel(\"Number of MELC images\")\n",
    "plt.savefig(\"../result_plots/tumor_thickness_distri.svg\", bbox_inches=\"tight\")"
   ]
  },
  {
   "cell_type": "code",
   "execution_count": null,
   "id": "f14d8c24-d8f5-419e-a1cd-6e032806720a",
   "metadata": {},
   "outputs": [],
   "source": []
  },
  {
   "cell_type": "code",
   "execution_count": null,
   "id": "adfc31cb-a1a1-4aca-aef3-5f2681964cbe",
   "metadata": {},
   "outputs": [],
   "source": []
  }
 ],
 "metadata": {
  "kernelspec": {
   "display_name": "Python 3 (ipykernel)",
   "language": "python",
   "name": "python3"
  },
  "language_info": {
   "codemirror_mode": {
    "name": "ipython",
    "version": 3
   },
   "file_extension": ".py",
   "mimetype": "text/x-python",
   "name": "python",
   "nbconvert_exporter": "python",
   "pygments_lexer": "ipython3",
   "version": "3.9.19"
  }
 },
 "nbformat": 4,
 "nbformat_minor": 5
}
