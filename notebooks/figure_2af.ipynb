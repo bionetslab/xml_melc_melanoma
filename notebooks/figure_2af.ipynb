{
 "cells": [
  {
   "cell_type": "code",
   "execution_count": 1,
   "id": "45226f80-0ca4-408e-b98b-ee47bf92fb6c",
   "metadata": {
    "scrolled": true
   },
   "outputs": [
    {
     "name": "stderr",
     "output_type": "stream",
     "text": [
      "2024-08-06 08:32:19.936987: I tensorflow/core/util/port.cc:153] oneDNN custom operations are on. You may see slightly different numerical results due to floating-point round-off errors from different computation orders. To turn them off, set the environment variable `TF_ENABLE_ONEDNN_OPTS=0`.\n",
      "2024-08-06 08:32:19.950008: E external/local_xla/xla/stream_executor/cuda/cuda_fft.cc:485] Unable to register cuFFT factory: Attempting to register factory for plugin cuFFT when one has already been registered\n",
      "2024-08-06 08:32:19.966217: E external/local_xla/xla/stream_executor/cuda/cuda_dnn.cc:8454] Unable to register cuDNN factory: Attempting to register factory for plugin cuDNN when one has already been registered\n",
      "2024-08-06 08:32:19.971059: E external/local_xla/xla/stream_executor/cuda/cuda_blas.cc:1452] Unable to register cuBLAS factory: Attempting to register factory for plugin cuBLAS when one has already been registered\n",
      "2024-08-06 08:32:19.983004: I tensorflow/core/platform/cpu_feature_guard.cc:210] This TensorFlow binary is optimized to use available CPU instructions in performance-critical operations.\n",
      "To enable the following instructions: AVX2 AVX512F AVX512_VNNI FMA, in other operations, rebuild TensorFlow with the appropriate compiler flags.\n",
      "2024-08-06 08:32:20.855858: W tensorflow/compiler/tf2tensorrt/utils/py_utils.cc:38] TF-TRT Warning: Could not find TensorRT\n"
     ]
    }
   ],
   "source": [
    "import pandas as pd\n",
    "import numpy as np\n",
    "from sklearn.ensemble import RandomForestClassifier\n",
    "import seaborn as sns\n",
    "import sys\n",
    "import matplotlib.pyplot as plt\n",
    "\n",
    "sys.path.append(\"..\")\n",
    "from src import *"
   ]
  },
  {
   "cell_type": "code",
   "execution_count": 2,
   "id": "a7aee513-933c-473b-8f80-7b509a409c75",
   "metadata": {},
   "outputs": [],
   "source": [
    "%load_ext autoreload\n",
    "%autoreload 2"
   ]
  },
  {
   "cell_type": "code",
   "execution_count": 3,
   "id": "9812338c-f251-482c-960e-5a20505aac90",
   "metadata": {},
   "outputs": [],
   "source": [
    "blue = sns.color_palette(\"colorblind\")[0]\n",
    "pink = sns.color_palette(\"colorblind\")[4] "
   ]
  },
  {
   "cell_type": "code",
   "execution_count": 4,
   "id": "12a13968-afb2-4582-9f0d-93dfa21c038d",
   "metadata": {},
   "outputs": [],
   "source": [
    "base = \"/data/bionets\" if \"ramses\" in os.uname()[1] else \"/data_nfs/\""
   ]
  },
  {
   "cell_type": "code",
   "execution_count": 5,
   "id": "d096e2a7-1279-4f46-97df-3bbb7ab819a1",
   "metadata": {},
   "outputs": [],
   "source": [
    "data = get_data_csv(high_quality_only=False, pfs=True, config_path=os.path.join(base, \"je30bery/melanoma_data/config.json\"))\n",
    "data = data.reset_index().drop(\"index\", axis=1)\n",
    "\n",
    "data[\"Sex\"].replace({\"m\": 1., \"f\": 0.}, inplace=True)\n",
    "data[\"Ulcerated\"].replace({True: 1., False: 0.}, inplace=True)"
   ]
  },
  {
   "cell_type": "code",
   "execution_count": 6,
   "id": "3826aebc-d981-4c0a-bdce-1daa59a4c859",
   "metadata": {},
   "outputs": [
    {
     "data": {
      "text/plain": [
       "(array([0., 1.]), array([97, 15]))"
      ]
     },
     "execution_count": 6,
     "metadata": {},
     "output_type": "execute_result"
    }
   ],
   "source": [
    "np.unique(data[\"PFS < 5\"], return_counts=True)"
   ]
  },
  {
   "cell_type": "code",
   "execution_count": 7,
   "id": "7d3ff384-578c-4ed2-a5c8-e6e034395282",
   "metadata": {},
   "outputs": [],
   "source": [
    "pfs0_pats = data[data[\"PFS < 5\"] == 0][\"Patient ID\"]\n",
    "pfs1_pats = data[data[\"PFS < 5\"] == 0][\"Patient ID\"]\n",
    "palette = {pat: blue for pat in pfs0_pats}.update({pat: pink for pat in pfs1_pats})"
   ]
  },
  {
   "cell_type": "code",
   "execution_count": 8,
   "id": "83abbcd3-b66a-41e7-a644-eec1c55285da",
   "metadata": {},
   "outputs": [],
   "source": [
    "def plot_samples_distri(ax):\n",
    "    pos = np.unique(data[data[\"PFS < 5\"] == 1][\"Patient ID\"])\n",
    "    neg = np.unique(data[data[\"PFS < 5\"] == 0][\"Patient ID\"])\n",
    "    palette = {pat: pink for i, pat in enumerate(pos)}\n",
    "    palette.update({pat: blue for i, pat in enumerate(neg)})\n",
    "    \n",
    "    sns.histplot(data, x=\"PFS < 5\", hue=\"Patient ID\", multiple=\"stack\", bins=2, legend=False, palette=palette, ax=ax)\n",
    "    ax.set_xticks(ticks=[0.25,0.75], labels=[\"PFS ≥ 5\", \"PFS < 5\"])\n",
    "    #ax.set_title(\"Samples colored by patient ID\")\n",
    "    #plt.savefig(\"data_overview.png\")\n",
    "    return ax"
   ]
  },
  {
   "cell_type": "markdown",
   "id": "ff319305-2f64-4246-96c6-94070cb63fec",
   "metadata": {},
   "source": [
    "___\n",
    "Use leave-all-sample-of-one-patient-out approach on tabular features (baseline)"
   ]
  },
  {
   "cell_type": "code",
   "execution_count": 9,
   "id": "5de5b156-19c2-41db-8358-e4f8b34baadc",
   "metadata": {
    "scrolled": true
   },
   "outputs": [
    {
     "name": "stdout",
     "output_type": "stream",
     "text": [
      "------- Histo ID level -------\n",
      "Accuracy 0.7142857142857143\n",
      "F1 0.5\n",
      "AUC-ROC 0.6500000000000001\n",
      "Recall 0.5\n",
      "Precision 0.5\n",
      "Accuracy in negative class 0.8\n",
      "Accuracy in positive class 0.5\n",
      "Sensitivity (Recall): 0.5\n",
      "Specificity: 0.8\n"
     ]
    }
   ],
   "source": [
    "prediction, feature_imp = loo_forest(data=data, features=[\"Sex\", \"Age\", \"Tumor Thickness [mm]\", \"Ulcerated\", \"Coarse loc.\", \"Side\"], label=\"PFS < 5\")\n",
    "data = data.sort_values(\"Histo ID\", axis=0)\n",
    "prediction = prediction.sort_values(\"Histo ID\", axis=0)\n",
    "#print(\"------- Sample level -------\")\n",
    "#print_metrics(data[\"PFS < 5\"].values, prediction[\"Prediction\"].values)\n",
    "print(\"------- Histo ID level -------\")\n",
    "y_true, y_pred = get_histo_id_level_predictions(data, prediction)\n",
    "print_metrics(np.array(y_true), np.array(y_pred))"
   ]
  },
  {
   "cell_type": "code",
   "execution_count": 10,
   "id": "5fd28f55-6c1c-4e4e-8a58-b4d63ec6e652",
   "metadata": {},
   "outputs": [],
   "source": [
    "def plot_thickness(ax):\n",
    "    palette = {\"PFS ≥ 5\": blue, \n",
    "               \"PFS < 5\": pink}\n",
    "    sns.histplot(data.replace({0: \"PFS ≥ 5\", 1: \"PFS < 5\"}), x=\"Tumor Thickness [mm]\", hue=\"PFS < 5\", palette=palette, multiple=\"layer\", ax=ax)\n",
    "    #plt.savefig(\"thickness_by_label.png\")\n",
    "    return ax"
   ]
  },
  {
   "cell_type": "code",
   "execution_count": 11,
   "id": "72725046-806c-4376-b9d0-f10862ea1f23",
   "metadata": {},
   "outputs": [],
   "source": [
    "feature_imp.rename({\"Tumor Thickness [mm]\": \"Tumor thickness\"}, inplace=True, axis=1)"
   ]
  },
  {
   "cell_type": "code",
   "execution_count": 12,
   "id": "ce6c63a7-f866-4d9a-a95f-54bae5786027",
   "metadata": {},
   "outputs": [],
   "source": [
    "def plot_feature_imp(feature_imp, ax):\n",
    "    sns.barplot(feature_imp, color=\"#ff8800\", alpha=0.8, ax=ax, edgecolor=\"0.\")\n",
    "    #plt.title(f'Feature importance of Random Forest with\\nleave-one-patient-out approach')\n",
    "    ax.set_ylabel('Feature importance')\n",
    "    ax.set_xticklabels(ax.get_xticklabels(), rotation=45, ha='right')\n",
    "    #plt.savefig(\"fimp_with_thickness.png\")\n",
    "    return ax"
   ]
  },
  {
   "cell_type": "code",
   "execution_count": 13,
   "id": "373ee96e-6a00-4499-b3cc-135128a24830",
   "metadata": {},
   "outputs": [
    {
     "data": {
      "image/png": "[encoded data removed]",
      "text/plain": [
       "<Figure size 170x300 with 1 Axes>"
      ]
     },
     "metadata": {},
     "output_type": "display_data"
    }
   ],
   "source": [
    "f, ax = plt.subplots(1, figsize=(1.7, 3))\n",
    "ax = plot_samples_distri(ax)\n",
    "ax.set_ylabel(\"Number of samples\")\n",
    "plt.savefig(\"../result_plots/sample_distri.svg\", bbox_inches=\"tight\")"
   ]
  },
  {
   "cell_type": "code",
   "execution_count": 14,
   "id": "11750429-2a16-42c0-87aa-d50911cc2700",
   "metadata": {},
   "outputs": [
    {
     "data": {
      "image/png": "[encoded data removed]",
      "text/plain": [
       "<Figure size 250x250 with 1 Axes>"
      ]
     },
     "metadata": {},
     "output_type": "display_data"
    }
   ],
   "source": [
    "#f, axs = plt.subplots(1, 2, figsize=(7, 2.5))\n",
    "#axs[0] = plot_samples_distri(axs[0])\n",
    "#axs[0].text(-0.3, 103, \"b\", ha='center', va='bottom', weight=\"bold\")\n",
    "\n",
    "#axs[1] = plot_feature_imp(feature_imp, axs[1])\n",
    "#axs[1].text(-0.25, 0.536, \"b\", ha='center', va='bottom', weight=\"bold\")\n",
    "f, ax = plt.subplots(1, figsize=(2.5, 2.5))\n",
    "\n",
    "ax = plot_thickness(ax)\n",
    "#ax.text(-5, 50, \"c\", ha='center', va='bottom', weight=\"bold\")\n",
    "#plt.tight_layout()\n",
    "plt.savefig(\"../result_plots/tumor_thickness_distri.svg\", bbox_inches=\"tight\")"
   ]
  },
  {
   "cell_type": "code",
   "execution_count": 15,
   "id": "e554cd4b-ae67-4065-a136-d512141c7a8c",
   "metadata": {
    "scrolled": true
   },
   "outputs": [
    {
     "name": "stdout",
     "output_type": "stream",
     "text": [
      "------- Histo ID level -------\n",
      "Accuracy 0.8214285714285714\n",
      "F1 0.7368421052631579\n",
      "AUC-ROC 0.8375\n",
      "Recall 0.875\n",
      "Precision 0.6363636363636364\n",
      "Accuracy in negative class 0.8\n",
      "Accuracy in positive class 0.875\n",
      "Sensitivity (Recall): 0.875\n",
      "Specificity: 0.8\n"
     ]
    }
   ],
   "source": [
    "prediction, feature_imp = loo_forest(data=data, features=[\"Tumor Thickness [mm]\"], label=\"PFS < 5\")\n",
    "data = data.sort_values(\"Histo ID\", axis=0)\n",
    "prediction = prediction.sort_values(\"Histo ID\", axis=0)\n",
    "#print(\"------- Sample level -------\")\n",
    "#print_metrics(data[\"PFS < 5\"].values, prediction[\"Prediction\"].values)\n",
    "print(\"------- Histo ID level -------\")\n",
    "y_true, y_pred = get_histo_id_level_predictions(data, prediction)\n",
    "print_metrics(np.array(y_true), np.array(y_pred))"
   ]
  },
  {
   "cell_type": "code",
   "execution_count": 16,
   "id": "66de9365-3452-491e-8f7b-84087b65b66b",
   "metadata": {},
   "outputs": [
    {
     "name": "stdout",
     "output_type": "stream",
     "text": [
      "------- Histo ID level -------\n",
      "Accuracy 0.6785714285714286\n",
      "F1 0.3076923076923077\n",
      "AUC-ROC 0.55\n",
      "Recall 0.25\n",
      "Precision 0.4\n",
      "Accuracy in negative class 0.85\n",
      "Accuracy in positive class 0.25\n",
      "Sensitivity (Recall): 0.25\n",
      "Specificity: 0.85\n"
     ]
    }
   ],
   "source": [
    "prediction, feature_imp = loo_forest(data=data, features=[\"Sex\", \"Age\", \"Ulcerated\", \"Coarse loc.\", \"Side\"], label=\"PFS < 5\")\n",
    "data = data.sort_values(\"Histo ID\", axis=0)\n",
    "prediction = prediction.sort_values(\"Histo ID\", axis=0)\n",
    "#print(\"------- Sample level -------\")\n",
    "#print_metrics(data[\"PFS < 5\"].values, prediction[\"Prediction\"].values)\n",
    "print(\"------- Histo ID level -------\")\n",
    "y_true, y_pred = get_histo_id_level_predictions(data, prediction)\n",
    "print_metrics(np.array(y_true), np.array(y_pred))"
   ]
  },
  {
   "cell_type": "code",
   "execution_count": 17,
   "id": "cda7a21f-4b64-49c6-97db-37f7fcdf403a",
   "metadata": {},
   "outputs": [],
   "source": [
    "conc = pd.concat([data.set_index(\"Histo ID\"), prediction.set_index(\"Histo ID\")], axis=1)[[\"Patient ID\", \"PFS < 5\", \"Prediction\"]].reset_index()"
   ]
  },
  {
   "cell_type": "code",
   "execution_count": null,
   "id": "70945b1e-0689-48d3-ade8-f9094ca4c88a",
   "metadata": {},
   "outputs": [],
   "source": []
  }
 ],
 "metadata": {
  "kernelspec": {
   "display_name": "Python 3 (ipykernel)",
   "language": "python",
   "name": "python3"
  },
  "language_info": {
   "codemirror_mode": {
    "name": "ipython",
    "version": 3
   },
   "file_extension": ".py",
   "mimetype": "text/x-python",
   "name": "python",
   "nbconvert_exporter": "python",
   "pygments_lexer": "ipython3",
   "version": "3.9.19"
  }
 },
 "nbformat": 4,
 "nbformat_minor": 5
}
