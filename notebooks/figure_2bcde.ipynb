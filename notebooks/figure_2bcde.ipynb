{
 "cells": [
  {
   "cell_type": "code",
   "execution_count": 1,
   "id": "45226f80-0ca4-408e-b98b-ee47bf92fb6c",
   "metadata": {},
   "outputs": [
    {
     "name": "stderr",
     "output_type": "stream",
     "text": [
      "2024-10-29 11:39:29.704474: I tensorflow/core/util/port.cc:153] oneDNN custom operations are on. You may see slightly different numerical results due to floating-point round-off errors from different computation orders. To turn them off, set the environment variable `TF_ENABLE_ONEDNN_OPTS=0`.\n",
      "2024-10-29 11:39:29.716040: E external/local_xla/xla/stream_executor/cuda/cuda_fft.cc:485] Unable to register cuFFT factory: Attempting to register factory for plugin cuFFT when one has already been registered\n",
      "2024-10-29 11:39:29.731540: E external/local_xla/xla/stream_executor/cuda/cuda_dnn.cc:8454] Unable to register cuDNN factory: Attempting to register factory for plugin cuDNN when one has already been registered\n",
      "2024-10-29 11:39:29.736378: E external/local_xla/xla/stream_executor/cuda/cuda_blas.cc:1452] Unable to register cuBLAS factory: Attempting to register factory for plugin cuBLAS when one has already been registered\n",
      "2024-10-29 11:39:29.747574: I tensorflow/core/platform/cpu_feature_guard.cc:210] This TensorFlow binary is optimized to use available CPU instructions in performance-critical operations.\n",
      "To enable the following instructions: AVX2 AVX512F AVX512_VNNI FMA, in other operations, rebuild TensorFlow with the appropriate compiler flags.\n",
      "2024-10-29 11:39:30.495344: W tensorflow/compiler/tf2tensorrt/utils/py_utils.cc:38] TF-TRT Warning: Could not find TensorRT\n"
     ]
    }
   ],
   "source": [
    "import pandas as pd\n",
    "import numpy as np\n",
    "from sklearn.ensemble import RandomForestClassifier\n",
    "import seaborn as sns\n",
    "import sys\n",
    "import matplotlib.pyplot as plt\n",
    "from sklearn.metrics import accuracy_score, f1_score, roc_auc_score, recall_score, precision_score, auc, RocCurveDisplay, roc_curve, confusion_matrix\n",
    "sys.path.append(\"..\")\n",
    "from src import *"
   ]
  },
  {
   "cell_type": "code",
   "execution_count": 2,
   "id": "a7aee513-933c-473b-8f80-7b509a409c75",
   "metadata": {},
   "outputs": [],
   "source": [
    "%load_ext autoreload\n",
    "%autoreload 2"
   ]
  },
  {
   "cell_type": "code",
   "execution_count": 3,
   "id": "12a13968-afb2-4582-9f0d-93dfa21c038d",
   "metadata": {},
   "outputs": [],
   "source": [
    "config_path =  \"/data_nfs/je30bery/archive/melanoma_data/config.json\""
   ]
  },
  {
   "cell_type": "code",
   "execution_count": 4,
   "id": "d096e2a7-1279-4f46-97df-3bbb7ab819a1",
   "metadata": {},
   "outputs": [],
   "source": [
    "data = get_data_csv(groups=[\"Melanoma\"], high_quality_only=False, pfs=True, config_path=config_path)\n",
    "data[\"Sex\"].replace({\"m\": 1., \"f\": 0.}, inplace=True)\n",
    "data[\"Ulcerated\"].replace({True: 1., False: 0.}, inplace=True)"
   ]
  },
  {
   "cell_type": "code",
   "execution_count": 5,
   "id": "0c164778-6e74-47e8-b0b0-bcbd59359c79",
   "metadata": {},
   "outputs": [
    {
     "data": {
      "text/plain": [
       "(array([0., 1.]), array([97, 15]))"
      ]
     },
     "execution_count": 5,
     "metadata": {},
     "output_type": "execute_result"
    }
   ],
   "source": [
    "np.unique(data[\"PFS < 5\"], return_counts=True)"
   ]
  },
  {
   "cell_type": "code",
   "execution_count": 6,
   "id": "0e12c452-0c8a-4447-9af2-fd6c675d5de7",
   "metadata": {},
   "outputs": [],
   "source": [
    "prediction, feature_imp = loo_forest(data, features=[\"Sex\", \"Age\", \"Tumor Thickness [mm]\", \"Ulcerated\", \"Coarse loc.\", \"Side\"], label=\"PFS < 5\")\n",
    "data = data.sort_values(\"Histo ID\", axis=0).set_index(\"Histo ID\")\n",
    "prediction = prediction.sort_values(\"Histo ID\", axis=0).set_index(\"Histo ID\")\n",
    "data[\"RFC all features\"] = prediction[\"Prediction\"]"
   ]
  },
  {
   "cell_type": "code",
   "execution_count": 7,
   "id": "b246074c-e435-4699-ba2b-de789fd82f2a",
   "metadata": {},
   "outputs": [],
   "source": [
    "data = data.reset_index() #.drop(\"index\", axis=1)\n",
    "prediction, _ = loo_forest(data=data, features=[\"Tumor Thickness [mm]\"], label=\"PFS < 5\")\n",
    "data = data.sort_values(\"Histo ID\", axis=0).set_index(\"Histo ID\")\n",
    "prediction = prediction.sort_values(\"Histo ID\", axis=0).set_index(\"Histo ID\")\n",
    "data[\"RFC TT\"] = prediction[\"Prediction\"]"
   ]
  },
  {
   "cell_type": "code",
   "execution_count": 8,
   "id": "c1736b1d-6be1-4023-bf0e-1408179d9b57",
   "metadata": {},
   "outputs": [],
   "source": [
    "data = data.reset_index() #.drop(\"index\", axis=1)\n",
    "prediction, _ = loo_forest(data=data.reset_index(), features=[\"Sex\", \"Age\", \"Ulcerated\", \"Coarse loc.\", \"Side\"], label=\"PFS < 5\")\n",
    "data = data.sort_values(\"Histo ID\", axis=0).set_index(\"Histo ID\")\n",
    "prediction = prediction.sort_values(\"Histo ID\", axis=0).set_index(\"Histo ID\")\n",
    "data[\"RFC w/o TT\"] = prediction[\"Prediction\"]\n",
    "data = data.reset_index() "
   ]
  },
  {
   "cell_type": "code",
   "execution_count": 9,
   "id": "4a819cc3-f1f6-4410-81cd-4f848e240f9d",
   "metadata": {},
   "outputs": [],
   "source": [
    "data[\"RFC deep features\"] = 0"
   ]
  },
  {
   "cell_type": "code",
   "execution_count": 10,
   "id": "e85c7f80-898c-4c47-be6f-ef3dc79c7c4f",
   "metadata": {},
   "outputs": [
    {
     "name": "stdout",
     "output_type": "stream",
     "text": [
      "[0. 1.] [97 15] 0.8660714285714286 0.1339285714285714\n"
     ]
    }
   ],
   "source": [
    "v, c = np.unique(data[\"PFS < 5\"], return_counts=True)\n",
    "p0 = c[0] / np.sum(c)\n",
    "p1 = 1 - p0\n",
    "print(v, c, p0, p1)\n",
    "data[\"Biased random classifier\"] = np.random.choice(a=v, size=len(data), p=[p0, p1])"
   ]
  },
  {
   "cell_type": "code",
   "execution_count": 11,
   "id": "bad53c47-9e8c-42ba-ad84-f1ad27688520",
   "metadata": {},
   "outputs": [
    {
     "data": {
      "text/html": [
       "<div>\n",
       "<style scoped>\n",
       "    .dataframe tbody tr th:only-of-type {\n",
       "        vertical-align: middle;\n",
       "    }\n",
       "\n",
       "    .dataframe tbody tr th {\n",
       "        vertical-align: top;\n",
       "    }\n",
       "\n",
       "    .dataframe thead th {\n",
       "        text-align: right;\n",
       "    }\n",
       "</style>\n",
       "<table border=\"1\" class=\"dataframe\">\n",
       "  <thead>\n",
       "    <tr style=\"text-align: right;\">\n",
       "      <th></th>\n",
       "      <th>Patient ID</th>\n",
       "      <th>PFS &lt; 5</th>\n",
       "    </tr>\n",
       "  </thead>\n",
       "  <tbody>\n",
       "    <tr>\n",
       "      <th>0</th>\n",
       "      <td>0</td>\n",
       "      <td>0.0</td>\n",
       "    </tr>\n",
       "    <tr>\n",
       "      <th>10</th>\n",
       "      <td>3</td>\n",
       "      <td>0.0</td>\n",
       "    </tr>\n",
       "    <tr>\n",
       "      <th>16</th>\n",
       "      <td>4</td>\n",
       "      <td>0.0</td>\n",
       "    </tr>\n",
       "    <tr>\n",
       "      <th>20</th>\n",
       "      <td>5</td>\n",
       "      <td>0.0</td>\n",
       "    </tr>\n",
       "    <tr>\n",
       "      <th>26</th>\n",
       "      <td>6</td>\n",
       "      <td>0.0</td>\n",
       "    </tr>\n",
       "    <tr>\n",
       "      <th>32</th>\n",
       "      <td>7</td>\n",
       "      <td>1.0</td>\n",
       "    </tr>\n",
       "    <tr>\n",
       "      <th>33</th>\n",
       "      <td>8</td>\n",
       "      <td>0.0</td>\n",
       "    </tr>\n",
       "    <tr>\n",
       "      <th>40</th>\n",
       "      <td>9</td>\n",
       "      <td>0.0</td>\n",
       "    </tr>\n",
       "    <tr>\n",
       "      <th>45</th>\n",
       "      <td>10</td>\n",
       "      <td>0.0</td>\n",
       "    </tr>\n",
       "    <tr>\n",
       "      <th>61</th>\n",
       "      <td>13</td>\n",
       "      <td>0.0</td>\n",
       "    </tr>\n",
       "    <tr>\n",
       "      <th>65</th>\n",
       "      <td>14</td>\n",
       "      <td>0.0</td>\n",
       "    </tr>\n",
       "    <tr>\n",
       "      <th>83</th>\n",
       "      <td>15</td>\n",
       "      <td>1.0</td>\n",
       "    </tr>\n",
       "    <tr>\n",
       "      <th>85</th>\n",
       "      <td>16</td>\n",
       "      <td>0.0</td>\n",
       "    </tr>\n",
       "    <tr>\n",
       "      <th>87</th>\n",
       "      <td>18</td>\n",
       "      <td>0.0</td>\n",
       "    </tr>\n",
       "    <tr>\n",
       "      <th>89</th>\n",
       "      <td>19</td>\n",
       "      <td>1.0</td>\n",
       "    </tr>\n",
       "    <tr>\n",
       "      <th>91</th>\n",
       "      <td>20</td>\n",
       "      <td>1.0</td>\n",
       "    </tr>\n",
       "    <tr>\n",
       "      <th>93</th>\n",
       "      <td>21</td>\n",
       "      <td>0.0</td>\n",
       "    </tr>\n",
       "    <tr>\n",
       "      <th>97</th>\n",
       "      <td>22</td>\n",
       "      <td>0.0</td>\n",
       "    </tr>\n",
       "    <tr>\n",
       "      <th>102</th>\n",
       "      <td>23</td>\n",
       "      <td>1.0</td>\n",
       "    </tr>\n",
       "    <tr>\n",
       "      <th>104</th>\n",
       "      <td>24</td>\n",
       "      <td>1.0</td>\n",
       "    </tr>\n",
       "    <tr>\n",
       "      <th>106</th>\n",
       "      <td>26</td>\n",
       "      <td>1.0</td>\n",
       "    </tr>\n",
       "    <tr>\n",
       "      <th>108</th>\n",
       "      <td>27</td>\n",
       "      <td>1.0</td>\n",
       "    </tr>\n",
       "  </tbody>\n",
       "</table>\n",
       "</div>"
      ],
      "text/plain": [
       "     Patient ID  PFS < 5\n",
       "0             0      0.0\n",
       "10            3      0.0\n",
       "16            4      0.0\n",
       "20            5      0.0\n",
       "26            6      0.0\n",
       "32            7      1.0\n",
       "33            8      0.0\n",
       "40            9      0.0\n",
       "45           10      0.0\n",
       "61           13      0.0\n",
       "65           14      0.0\n",
       "83           15      1.0\n",
       "85           16      0.0\n",
       "87           18      0.0\n",
       "89           19      1.0\n",
       "91           20      1.0\n",
       "93           21      0.0\n",
       "97           22      0.0\n",
       "102          23      1.0\n",
       "104          24      1.0\n",
       "106          26      1.0\n",
       "108          27      1.0"
      ]
     },
     "execution_count": 11,
     "metadata": {},
     "output_type": "execute_result"
    }
   ],
   "source": [
    "data[[\"Patient ID\", \"PFS < 5\"]].drop_duplicates()"
   ]
  },
  {
   "cell_type": "code",
   "execution_count": 12,
   "id": "7b2ad274-7981-4b6e-9027-717f6ba1af49",
   "metadata": {},
   "outputs": [
    {
     "name": "stdout",
     "output_type": "stream",
     "text": [
      "[0. 1.] [14  8]\n"
     ]
    }
   ],
   "source": [
    "v, c = np.unique(data[[\"Patient ID\", \"PFS < 5\"]].drop_duplicates()[\"PFS < 5\"], return_counts=True)\n",
    "print(v, c)\n",
    "p0 = c[0] / np.sum(c)\n",
    "p1 = 1 - p0\n",
    "labels = np.random.choice(a=v, size=len(data[[\"Patient ID\", \"PFS < 5\"]].drop_duplicates()), p=[p0, p1])\n",
    "\n",
    "patients = np.unique(data[[\"Patient ID\", \"PFS < 5\"]].drop_duplicates()[\"Patient ID\"])\n",
    "for i, patient in enumerate(patients):\n",
    "    data.loc[data[\"Patient ID\"] == patient, \"Patient-level biased random classifier\"] = labels[i]"
   ]
  },
  {
   "cell_type": "code",
   "execution_count": 13,
   "id": "34ff20ec-61d8-4500-92df-aabdd8ea511a",
   "metadata": {},
   "outputs": [
    {
     "data": {
      "text/plain": [
       "22"
      ]
     },
     "execution_count": 13,
     "metadata": {},
     "output_type": "execute_result"
    }
   ],
   "source": [
    "len(data[[\"Patient ID\", \"PFS < 5\", \"Patient-level biased random classifier\"]].drop_duplicates())"
   ]
  },
  {
   "cell_type": "code",
   "execution_count": 14,
   "id": "271f2143-bdc5-488b-9be4-53b9b8d2af25",
   "metadata": {},
   "outputs": [
    {
     "data": {
      "text/plain": [
       "(array([0., 1.]), array([16,  6]))"
      ]
     },
     "execution_count": 14,
     "metadata": {},
     "output_type": "execute_result"
    }
   ],
   "source": [
    "np.unique(data[[\"Patient ID\", \"PFS < 5\", \"Patient-level biased random classifier\"]].drop_duplicates()[\"Patient-level biased random classifier\"], return_counts=True)"
   ]
  },
  {
   "cell_type": "code",
   "execution_count": 15,
   "id": "66b56c64-2fbd-4259-acce-bd66c7088174",
   "metadata": {},
   "outputs": [],
   "source": [
    "with open(config_path, \"r\") as f:\n",
    "    configs = json.load(f)\n",
    "    \n",
    "dataset_statistics = configs[\"dataset_statistics\"]\n",
    "checkpoint_path = configs[\"downloaded_model_weights\"]\n",
    "pretrained_model = configs[\"pretrained_model_path\"]\n",
    "finetuned_models_path = configs[\"finetuned_models\"]\n",
    "\n",
    "with open(os.path.join(dataset_statistics, f'melanoma_means.json'), 'r') as fp:\n",
    "    means = json.load(fp)\n",
    "    markers = list(means.keys())"
   ]
  },
  {
   "cell_type": "code",
   "execution_count": 16,
   "id": "5b7806f2-4193-4e76-9b97-0ba661c65900",
   "metadata": {},
   "outputs": [
    {
     "data": {
      "text/plain": [
       "Index(['Histo ID', 'MELC image', 'Patient ID', 'Sex', 'Age',\n",
       "       'Tumor Thickness [mm]', 'Ulcerated', 'Coarse loc.', 'Side', 'Group',\n",
       "       'PFS < 5', 'High-quality segmentation result', 'RFC all features',\n",
       "       'RFC TT', 'RFC w/o TT', 'RFC deep features', 'Biased random classifier',\n",
       "       'Patient-level biased random classifier'],\n",
       "      dtype='object')"
      ]
     },
     "execution_count": 16,
     "metadata": {},
     "output_type": "execute_result"
    }
   ],
   "source": [
    "data.columns"
   ]
  },
  {
   "cell_type": "code",
   "execution_count": 17,
   "id": "237a93c2-adce-44f4-b311-0204acee83c9",
   "metadata": {},
   "outputs": [],
   "source": [
    "no_dup = data[[\"Sex\", \"Age\", \"Patient ID\", \"PFS < 5\", \"Ulcerated\", \"Side\", \"Coarse loc.\", \"Tumor Thickness [mm]\"]].drop_duplicates()"
   ]
  },
  {
   "cell_type": "code",
   "execution_count": 18,
   "id": "bc90ab1d-6fa6-483d-a94f-04b27fad0c64",
   "metadata": {},
   "outputs": [],
   "source": [
    "splits = {0: [16],\n",
    " 1: [29],\n",
    " 2: [33],\n",
    " 3: [8, 15, 18, 19, 20],\n",
    " 4: [25],\n",
    " 5: [9],\n",
    " 6: [21],\n",
    " 7: [5],\n",
    " 8: [30],\n",
    " 9: [17],\n",
    " 10: [3],\n",
    " 11: [26],\n",
    " 12: [32],\n",
    " 13: [4],\n",
    " 14: [24],\n",
    " 15: [11, 12],\n",
    " 16: [0],\n",
    " 17: [7],\n",
    " 18: [22, 34],\n",
    " 19: [28],\n",
    " 20: [27],\n",
    " 21: [6]}"
   ]
  },
  {
   "cell_type": "code",
   "execution_count": 19,
   "id": "529958d9-188b-4ce7-be1b-7c9ce91bf571",
   "metadata": {},
   "outputs": [
    {
     "data": {
      "text/html": [
       "<div>\n",
       "<style scoped>\n",
       "    .dataframe tbody tr th:only-of-type {\n",
       "        vertical-align: middle;\n",
       "    }\n",
       "\n",
       "    .dataframe tbody tr th {\n",
       "        vertical-align: top;\n",
       "    }\n",
       "\n",
       "    .dataframe thead th {\n",
       "        text-align: right;\n",
       "    }\n",
       "</style>\n",
       "<table border=\"1\" class=\"dataframe\">\n",
       "  <thead>\n",
       "    <tr style=\"text-align: right;\">\n",
       "      <th></th>\n",
       "      <th>Histo ID</th>\n",
       "      <th>MELC image</th>\n",
       "      <th>Patient ID</th>\n",
       "      <th>Sex</th>\n",
       "      <th>Age</th>\n",
       "      <th>Tumor Thickness [mm]</th>\n",
       "      <th>Ulcerated</th>\n",
       "      <th>Coarse loc.</th>\n",
       "      <th>Side</th>\n",
       "      <th>Group</th>\n",
       "      <th>PFS &lt; 5</th>\n",
       "      <th>High-quality segmentation result</th>\n",
       "      <th>RFC all features</th>\n",
       "      <th>RFC TT</th>\n",
       "      <th>RFC w/o TT</th>\n",
       "      <th>RFC deep features</th>\n",
       "      <th>Biased random classifier</th>\n",
       "      <th>Patient-level biased random classifier</th>\n",
       "    </tr>\n",
       "  </thead>\n",
       "  <tbody>\n",
       "    <tr>\n",
       "      <th>0</th>\n",
       "      <td>0</td>\n",
       "      <td>image-002</td>\n",
       "      <td>0</td>\n",
       "      <td>1.0</td>\n",
       "      <td>58</td>\n",
       "      <td>1.3</td>\n",
       "      <td>0.0</td>\n",
       "      <td>4.0</td>\n",
       "      <td>1.0</td>\n",
       "      <td>Melanoma</td>\n",
       "      <td>0.0</td>\n",
       "      <td>False</td>\n",
       "      <td>0.0</td>\n",
       "      <td>0.0</td>\n",
       "      <td>0.0</td>\n",
       "      <td>0</td>\n",
       "      <td>0.0</td>\n",
       "      <td>0.0</td>\n",
       "    </tr>\n",
       "    <tr>\n",
       "      <th>1</th>\n",
       "      <td>0</td>\n",
       "      <td>image-046</td>\n",
       "      <td>0</td>\n",
       "      <td>1.0</td>\n",
       "      <td>58</td>\n",
       "      <td>1.3</td>\n",
       "      <td>0.0</td>\n",
       "      <td>4.0</td>\n",
       "      <td>1.0</td>\n",
       "      <td>Melanoma</td>\n",
       "      <td>0.0</td>\n",
       "      <td>True</td>\n",
       "      <td>0.0</td>\n",
       "      <td>0.0</td>\n",
       "      <td>0.0</td>\n",
       "      <td>0</td>\n",
       "      <td>0.0</td>\n",
       "      <td>0.0</td>\n",
       "    </tr>\n",
       "    <tr>\n",
       "      <th>2</th>\n",
       "      <td>0</td>\n",
       "      <td>image-023</td>\n",
       "      <td>0</td>\n",
       "      <td>1.0</td>\n",
       "      <td>58</td>\n",
       "      <td>1.3</td>\n",
       "      <td>0.0</td>\n",
       "      <td>4.0</td>\n",
       "      <td>1.0</td>\n",
       "      <td>Melanoma</td>\n",
       "      <td>0.0</td>\n",
       "      <td>True</td>\n",
       "      <td>0.0</td>\n",
       "      <td>0.0</td>\n",
       "      <td>0.0</td>\n",
       "      <td>0</td>\n",
       "      <td>0.0</td>\n",
       "      <td>0.0</td>\n",
       "    </tr>\n",
       "    <tr>\n",
       "      <th>3</th>\n",
       "      <td>0</td>\n",
       "      <td>image-000</td>\n",
       "      <td>0</td>\n",
       "      <td>1.0</td>\n",
       "      <td>58</td>\n",
       "      <td>1.3</td>\n",
       "      <td>0.0</td>\n",
       "      <td>4.0</td>\n",
       "      <td>1.0</td>\n",
       "      <td>Melanoma</td>\n",
       "      <td>0.0</td>\n",
       "      <td>False</td>\n",
       "      <td>0.0</td>\n",
       "      <td>0.0</td>\n",
       "      <td>0.0</td>\n",
       "      <td>0</td>\n",
       "      <td>0.0</td>\n",
       "      <td>0.0</td>\n",
       "    </tr>\n",
       "    <tr>\n",
       "      <th>4</th>\n",
       "      <td>0</td>\n",
       "      <td>image-001</td>\n",
       "      <td>0</td>\n",
       "      <td>1.0</td>\n",
       "      <td>58</td>\n",
       "      <td>1.3</td>\n",
       "      <td>0.0</td>\n",
       "      <td>4.0</td>\n",
       "      <td>1.0</td>\n",
       "      <td>Melanoma</td>\n",
       "      <td>0.0</td>\n",
       "      <td>False</td>\n",
       "      <td>0.0</td>\n",
       "      <td>0.0</td>\n",
       "      <td>0.0</td>\n",
       "      <td>0</td>\n",
       "      <td>0.0</td>\n",
       "      <td>0.0</td>\n",
       "    </tr>\n",
       "    <tr>\n",
       "      <th>...</th>\n",
       "      <td>...</td>\n",
       "      <td>...</td>\n",
       "      <td>...</td>\n",
       "      <td>...</td>\n",
       "      <td>...</td>\n",
       "      <td>...</td>\n",
       "      <td>...</td>\n",
       "      <td>...</td>\n",
       "      <td>...</td>\n",
       "      <td>...</td>\n",
       "      <td>...</td>\n",
       "      <td>...</td>\n",
       "      <td>...</td>\n",
       "      <td>...</td>\n",
       "      <td>...</td>\n",
       "      <td>...</td>\n",
       "      <td>...</td>\n",
       "      <td>...</td>\n",
       "    </tr>\n",
       "    <tr>\n",
       "      <th>107</th>\n",
       "      <td>32</td>\n",
       "      <td>image-112</td>\n",
       "      <td>26</td>\n",
       "      <td>1.0</td>\n",
       "      <td>48</td>\n",
       "      <td>6.0</td>\n",
       "      <td>1.0</td>\n",
       "      <td>0.0</td>\n",
       "      <td>-1.0</td>\n",
       "      <td>Melanoma</td>\n",
       "      <td>1.0</td>\n",
       "      <td>False</td>\n",
       "      <td>0.0</td>\n",
       "      <td>0.0</td>\n",
       "      <td>0.0</td>\n",
       "      <td>0</td>\n",
       "      <td>0.0</td>\n",
       "      <td>0.0</td>\n",
       "    </tr>\n",
       "    <tr>\n",
       "      <th>108</th>\n",
       "      <td>33</td>\n",
       "      <td>image-117</td>\n",
       "      <td>27</td>\n",
       "      <td>1.0</td>\n",
       "      <td>52</td>\n",
       "      <td>2.6</td>\n",
       "      <td>0.0</td>\n",
       "      <td>2.0</td>\n",
       "      <td>1.0</td>\n",
       "      <td>Melanoma</td>\n",
       "      <td>1.0</td>\n",
       "      <td>True</td>\n",
       "      <td>0.0</td>\n",
       "      <td>1.0</td>\n",
       "      <td>0.0</td>\n",
       "      <td>0</td>\n",
       "      <td>0.0</td>\n",
       "      <td>0.0</td>\n",
       "    </tr>\n",
       "    <tr>\n",
       "      <th>109</th>\n",
       "      <td>33</td>\n",
       "      <td>image-118</td>\n",
       "      <td>27</td>\n",
       "      <td>1.0</td>\n",
       "      <td>52</td>\n",
       "      <td>2.6</td>\n",
       "      <td>0.0</td>\n",
       "      <td>2.0</td>\n",
       "      <td>1.0</td>\n",
       "      <td>Melanoma</td>\n",
       "      <td>1.0</td>\n",
       "      <td>True</td>\n",
       "      <td>0.0</td>\n",
       "      <td>1.0</td>\n",
       "      <td>0.0</td>\n",
       "      <td>0</td>\n",
       "      <td>0.0</td>\n",
       "      <td>0.0</td>\n",
       "    </tr>\n",
       "    <tr>\n",
       "      <th>110</th>\n",
       "      <td>34</td>\n",
       "      <td>image-120</td>\n",
       "      <td>16</td>\n",
       "      <td>1.0</td>\n",
       "      <td>36</td>\n",
       "      <td>4.1</td>\n",
       "      <td>0.0</td>\n",
       "      <td>2.0</td>\n",
       "      <td>1.0</td>\n",
       "      <td>Melanoma</td>\n",
       "      <td>0.0</td>\n",
       "      <td>True</td>\n",
       "      <td>1.0</td>\n",
       "      <td>0.0</td>\n",
       "      <td>1.0</td>\n",
       "      <td>0</td>\n",
       "      <td>0.0</td>\n",
       "      <td>0.0</td>\n",
       "    </tr>\n",
       "    <tr>\n",
       "      <th>111</th>\n",
       "      <td>34</td>\n",
       "      <td>image-119</td>\n",
       "      <td>16</td>\n",
       "      <td>1.0</td>\n",
       "      <td>36</td>\n",
       "      <td>4.1</td>\n",
       "      <td>0.0</td>\n",
       "      <td>2.0</td>\n",
       "      <td>1.0</td>\n",
       "      <td>Melanoma</td>\n",
       "      <td>0.0</td>\n",
       "      <td>True</td>\n",
       "      <td>1.0</td>\n",
       "      <td>0.0</td>\n",
       "      <td>1.0</td>\n",
       "      <td>0</td>\n",
       "      <td>1.0</td>\n",
       "      <td>0.0</td>\n",
       "    </tr>\n",
       "  </tbody>\n",
       "</table>\n",
       "<p>112 rows × 18 columns</p>\n",
       "</div>"
      ],
      "text/plain": [
       "     Histo ID MELC image  Patient ID  Sex  Age  Tumor Thickness [mm]  \\\n",
       "0           0  image-002           0  1.0   58                   1.3   \n",
       "1           0  image-046           0  1.0   58                   1.3   \n",
       "2           0  image-023           0  1.0   58                   1.3   \n",
       "3           0  image-000           0  1.0   58                   1.3   \n",
       "4           0  image-001           0  1.0   58                   1.3   \n",
       "..        ...        ...         ...  ...  ...                   ...   \n",
       "107        32  image-112          26  1.0   48                   6.0   \n",
       "108        33  image-117          27  1.0   52                   2.6   \n",
       "109        33  image-118          27  1.0   52                   2.6   \n",
       "110        34  image-120          16  1.0   36                   4.1   \n",
       "111        34  image-119          16  1.0   36                   4.1   \n",
       "\n",
       "     Ulcerated  Coarse loc.  Side     Group  PFS < 5  \\\n",
       "0          0.0          4.0   1.0  Melanoma      0.0   \n",
       "1          0.0          4.0   1.0  Melanoma      0.0   \n",
       "2          0.0          4.0   1.0  Melanoma      0.0   \n",
       "3          0.0          4.0   1.0  Melanoma      0.0   \n",
       "4          0.0          4.0   1.0  Melanoma      0.0   \n",
       "..         ...          ...   ...       ...      ...   \n",
       "107        1.0          0.0  -1.0  Melanoma      1.0   \n",
       "108        0.0          2.0   1.0  Melanoma      1.0   \n",
       "109        0.0          2.0   1.0  Melanoma      1.0   \n",
       "110        0.0          2.0   1.0  Melanoma      0.0   \n",
       "111        0.0          2.0   1.0  Melanoma      0.0   \n",
       "\n",
       "    High-quality segmentation result  RFC all features  RFC TT  RFC w/o TT  \\\n",
       "0                              False               0.0     0.0         0.0   \n",
       "1                               True               0.0     0.0         0.0   \n",
       "2                               True               0.0     0.0         0.0   \n",
       "3                              False               0.0     0.0         0.0   \n",
       "4                              False               0.0     0.0         0.0   \n",
       "..                               ...               ...     ...         ...   \n",
       "107                            False               0.0     0.0         0.0   \n",
       "108                             True               0.0     1.0         0.0   \n",
       "109                             True               0.0     1.0         0.0   \n",
       "110                             True               1.0     0.0         1.0   \n",
       "111                             True               1.0     0.0         1.0   \n",
       "\n",
       "     RFC deep features  Biased random classifier  \\\n",
       "0                    0                       0.0   \n",
       "1                    0                       0.0   \n",
       "2                    0                       0.0   \n",
       "3                    0                       0.0   \n",
       "4                    0                       0.0   \n",
       "..                 ...                       ...   \n",
       "107                  0                       0.0   \n",
       "108                  0                       0.0   \n",
       "109                  0                       0.0   \n",
       "110                  0                       0.0   \n",
       "111                  0                       1.0   \n",
       "\n",
       "     Patient-level biased random classifier  \n",
       "0                                       0.0  \n",
       "1                                       0.0  \n",
       "2                                       0.0  \n",
       "3                                       0.0  \n",
       "4                                       0.0  \n",
       "..                                      ...  \n",
       "107                                     0.0  \n",
       "108                                     0.0  \n",
       "109                                     0.0  \n",
       "110                                     0.0  \n",
       "111                                     0.0  \n",
       "\n",
       "[112 rows x 18 columns]"
      ]
     },
     "execution_count": 19,
     "metadata": {},
     "output_type": "execute_result"
    }
   ],
   "source": [
    "data"
   ]
  },
  {
   "cell_type": "code",
   "execution_count": 20,
   "id": "7ce45e9c-785f-43b7-8145-b8cf9060f941",
   "metadata": {
    "scrolled": true
   },
   "outputs": [
    {
     "name": "stderr",
     "output_type": "stream",
     "text": [
      "100%|███████████████████████████████████████████████████████████████████████████████████████████████████████████████████████████████████████████████| 22/22 [00:38<00:00,  1.77s/it]\n"
     ]
    }
   ],
   "source": [
    "model = ResNet18_smoothgrad(indim=len(markers), cam=True, checkpoint_path=checkpoint_path)\n",
    "model = model.to(\"cuda:0\")\n",
    "finetuned_models = os.listdir(finetuned_models_path)\n",
    "subsets = list()\n",
    "\n",
    "for split in tqdm(splits):\n",
    "    data_subset = data[data[\"Histo ID\"].isin(splits[split])]\n",
    "\n",
    "    if len(data_subset) == 0:\n",
    "        continue\n",
    "    dl = t.utils.data.DataLoader(MelanomaData(markers, pretrain=False, data=data_subset, mode=\"val\", config_path=config_path), batch_size=1, shuffle=False)\n",
    "    model_path = [m for m in finetuned_models if f\"finetuning_final_split={split}\" in m][0]\n",
    "    model.load_state_dict(t.load(os.path.join(finetuned_models_path, model_path), map_location=\"cuda:0\"), strict=True)\n",
    "    model.eval()\n",
    "    it = iter(dl)\n",
    "    preds = list()\n",
    "    for i in range(len(data_subset)):\n",
    "        x, y, _ = next(it)\n",
    "        y_pred = model(x.cuda()).detach().cpu().numpy().item()\n",
    "        preds.append(y_pred)     \n",
    "    data.loc[data[\"Histo ID\"].isin(splits[split]), \"Prediction\"] = preds    "
   ]
  },
  {
   "cell_type": "code",
   "execution_count": 21,
   "id": "3eec08d1-2265-46a9-997c-fe828ae6bd9f",
   "metadata": {},
   "outputs": [],
   "source": [
    "def specificity(y_true, y_pred):\n",
    "    tn, fp, fn, tp = confusion_matrix(y_true, y_pred).ravel()  \n",
    "    specificity = tn / (tn + fp)\n",
    "    return specificity\n",
    "    \n",
    "def sensitivity(y_true, y_pred):\n",
    "    tn, fp, fn, tp = confusion_matrix(y_true, y_pred).ravel()\n",
    "    sensitivity = tp / (tp + fn)\n",
    "    return sensitivity"
   ]
  },
  {
   "cell_type": "code",
   "execution_count": 22,
   "id": "c91ab9ec-e4f1-4bf3-8394-106eeb2d73e6",
   "metadata": {},
   "outputs": [],
   "source": [
    "def get_levelled_preds(data, prediction_label=\"Prediction\", return_preds=False):\n",
    "    data = data.copy().dropna(subset=[prediction_label], axis=0)\n",
    "    histo_level_labels = list()\n",
    "    histo_level_preds = list()\n",
    "\n",
    "    for histo_id in np.unique(data[\"Histo ID\"]):\n",
    "        data_subset = data[data[\"Histo ID\"] == histo_id]\n",
    "        if len(data_subset) > 0:\n",
    "            label = data_subset[\"PFS < 5\"]\n",
    "            histo_level_labels.append(np.unique(label)[0])\n",
    "            pred = np.mean(data_subset[prediction_label])\n",
    "            histo_level_preds.append(pred)\n",
    "\n",
    "    pat_level_labels = list()\n",
    "    pat_level_preds = list()\n",
    "    for split in tqdm(splits):\n",
    "        data_subset = data[data[\"Histo ID\"].isin(splits[split])]\n",
    "\n",
    "        if len(data_subset) > 0:\n",
    "            label = data_subset[\"PFS < 5\"]\n",
    "            pat_level_labels.append(np.unique(label)[0])\n",
    "            pred = np.mean(data_subset[prediction_label])\n",
    "            pat_level_preds.append(pred)\n",
    "\n",
    "    if return_preds:\n",
    "        return histo_level_labels, histo_level_preds, pat_level_labels, pat_level_preds\n",
    "        \n",
    "    d = list()\n",
    "    for i, (y_true, y_pred) in enumerate([(data[\"PFS < 5\"], data[prediction_label]), (histo_level_labels, histo_level_preds), (pat_level_labels, pat_level_preds)]):\n",
    "        d.append(pd.DataFrame([accuracy_score(y_true, np.array(y_pred)>0.5),\n",
    "                               roc_auc_score(y_true, y_pred), \n",
    "                               f1_score(y_true, np.array(y_pred)>0.5),\n",
    "                               specificity(y_true, np.array(y_pred)>0.5),\n",
    "                               sensitivity(y_true, np.array(y_pred)>0.5)],\n",
    "                              index=[\"Accuracy\", \"AUC-ROC\", \"F1-score\",\"Specificity\",\"Sensitivity\"]))\n",
    "    df = pd.concat(d, axis=1)\n",
    "    df.columns = [\"Sample-level\", \"Section-level\", \"Patient-level\"]\n",
    "    return df"
   ]
  },
  {
   "cell_type": "code",
   "execution_count": 23,
   "id": "7851b17a-a7ba-457a-b505-8174a613ca11",
   "metadata": {},
   "outputs": [],
   "source": [
    "def get_roc_auc(ax, y_true, y_score, label, color):\n",
    "    fpr, tpr, thresholds = roc_curve(y_true=y_true, y_score=y_score)\n",
    "    roc_auc = auc(fpr, tpr)\n",
    "    display = RocCurveDisplay(fpr=fpr, tpr=tpr, roc_auc=roc_auc)\n",
    "    display.plot(ax=ax, label=label, color=color, alpha=0.8) #\n",
    "    return ax"
   ]
  },
  {
   "cell_type": "code",
   "execution_count": 28,
   "id": "0fd376d8-ceba-4222-a44f-65a8831e664f",
   "metadata": {
    "scrolled": true
   },
   "outputs": [
    {
     "name": "stderr",
     "output_type": "stream",
     "text": [
      "100%|█████████████████████████████████████████████████████████████████████████████████████████████████████████████████████████████████████████████| 22/22 [00:00<00:00, 2271.38it/s]\n",
      "100%|█████████████████████████████████████████████████████████████████████████████████████████████████████████████████████████████████████████████| 22/22 [00:00<00:00, 2463.61it/s]\n",
      "100%|█████████████████████████████████████████████████████████████████████████████████████████████████████████████████████████████████████████████| 22/22 [00:00<00:00, 2517.80it/s]\n",
      "100%|█████████████████████████████████████████████████████████████████████████████████████████████████████████████████████████████████████████████| 22/22 [00:00<00:00, 2548.81it/s]\n",
      "100%|█████████████████████████████████████████████████████████████████████████████████████████████████████████████████████████████████████████████| 22/22 [00:00<00:00, 2541.37it/s]\n",
      "100%|█████████████████████████████████████████████████████████████████████████████████████████████████████████████████████████████████████████████| 22/22 [00:00<00:00, 2588.13it/s]\n"
     ]
    }
   ],
   "source": [
    "dfs = dict()\n",
    "accs = dict()\n",
    "auc_rocs = dict()\n",
    "for prediction_label in ['RFC all features', 'RFC TT', 'RFC w/o TT',  \"Biased random classifier\",\"Patient-level biased random classifier\",  'Prediction']:\n",
    "    res = get_levelled_preds(data, prediction_label)\n",
    "    dfs[prediction_label] = res\n",
    "    accs[prediction_label] = pd.DataFrame(res.loc[\"Accuracy\"])\n",
    "    auc_rocs[prediction_label] = pd.DataFrame(res.loc[\"AUC-ROC\"])\n",
    "accs = pd.concat(accs, axis=1).T.reset_index().drop(\"level_1\", axis=1).set_index(\"level_0\")\n",
    "auc_rocs = pd.concat(auc_rocs, axis=1).T.reset_index().drop(\"level_1\", axis=1).set_index(\"level_0\")\n",
    "accs.iloc[0:3, 0] = np.nan\n",
    "auc_rocs.iloc[0:3, 0] = np.nan\n",
    "accs.index =  [\"RFC on all meta variables\", \"RFC on tumor thickness only\", \"RFC on all, tumor thickness excluded\", \"Biased random classifier\", \"Patient-level biased random classifier\", \"Cross-validated CNN\"]\n",
    "auc_rocs.index =  [\"RFC on all meta variables\", \"RFC on tumor thickness only\", \"RFC on all, tumor thickness excluded\", \"Biased random classifier\", \"Patient-level biased random classifier\", \"Cross-validated CNN\"]"
   ]
  },
  {
   "cell_type": "code",
   "execution_count": 29,
   "id": "11f97b3b-54bd-49d2-9631-e3494d18bdd3",
   "metadata": {},
   "outputs": [
    {
     "name": "stdout",
     "output_type": "stream",
     "text": [
      "\\begin{tabular}{llrrr}\n",
      "\\toprule\n",
      " &  & Sample-level & Section-level & Patient-level \\\\\n",
      "\\midrule\n",
      "\\multirow[t]{5}{*}{RFC all features} & Accuracy & 0.900000 & 0.790000 & 0.770000 \\\\\n",
      " & AUC-ROC & 0.750000 & 0.700000 & 0.710000 \\\\\n",
      " & F1-score & 0.590000 & 0.570000 & 0.620000 \\\\\n",
      " & Specificity & 0.960000 & 0.900000 & 0.930000 \\\\\n",
      " & Sensitivity & 0.530000 & 0.500000 & 0.500000 \\\\\n",
      "\\cline{1-5}\n",
      "\\multirow[t]{5}{*}{RFC TT} & Accuracy & 0.820000 & 0.820000 & 0.820000 \\\\\n",
      " & AUC-ROC & 0.840000 & 0.840000 & 0.830000 \\\\\n",
      " & F1-score & 0.570000 & 0.740000 & 0.780000 \\\\\n",
      " & Specificity & 0.810000 & 0.800000 & 0.790000 \\\\\n",
      " & Sensitivity & 0.870000 & 0.880000 & 0.880000 \\\\\n",
      "\\cline{1-5}\n",
      "\\multirow[t]{5}{*}{RFC w/o TT} & Accuracy & 0.800000 & 0.680000 & 0.680000 \\\\\n",
      " & AUC-ROC & 0.580000 & 0.550000 & 0.560000 \\\\\n",
      " & F1-score & 0.270000 & 0.310000 & 0.360000 \\\\\n",
      " & Specificity & 0.890000 & 0.850000 & 0.930000 \\\\\n",
      " & Sensitivity & 0.270000 & 0.250000 & 0.250000 \\\\\n",
      "\\cline{1-5}\n",
      "\\multirow[t]{5}{*}{Biased random classifier} & Accuracy & 0.790000 & 0.710000 & 0.640000 \\\\\n",
      " & AUC-ROC & 0.540000 & 0.440000 & 0.420000 \\\\\n",
      " & F1-score & 0.200000 & 0.200000 & 0.200000 \\\\\n",
      " & Specificity & 0.880000 & 0.950000 & 0.930000 \\\\\n",
      " & Sensitivity & 0.200000 & 0.120000 & 0.120000 \\\\\n",
      "\\cline{1-5}\n",
      "\\multirow[t]{5}{*}{Patient-level biased random classifier} & Accuracy & 0.700000 & 0.610000 & 0.550000 \\\\\n",
      " & AUC-ROC & 0.510000 & 0.500000 & 0.480000 \\\\\n",
      " & F1-score & 0.190000 & 0.270000 & 0.290000 \\\\\n",
      " & Specificity & 0.760000 & 0.750000 & 0.710000 \\\\\n",
      " & Sensitivity & 0.270000 & 0.250000 & 0.250000 \\\\\n",
      "\\cline{1-5}\n",
      "\\multirow[t]{5}{*}{Prediction} & Accuracy & 0.860000 & 0.890000 & 0.910000 \\\\\n",
      " & AUC-ROC & 0.920000 & 0.990000 & 0.990000 \\\\\n",
      " & F1-score & 0.580000 & 0.820000 & 0.880000 \\\\\n",
      " & Specificity & 0.880000 & 0.900000 & 0.930000 \\\\\n",
      " & Sensitivity & 0.730000 & 0.880000 & 0.880000 \\\\\n",
      "\\cline{1-5}\n",
      "\\bottomrule\n",
      "\\end{tabular}\n",
      "\n"
     ]
    }
   ],
   "source": [
    "print(pd.concat(dfs).round(2).to_latex())"
   ]
  },
  {
   "cell_type": "code",
   "execution_count": 30,
   "id": "2fdbae34-3c2d-4537-b0ff-bc0db4efca19",
   "metadata": {},
   "outputs": [
    {
     "name": "stderr",
     "output_type": "stream",
     "text": [
      "100%|█████████████████████████████████████████████████████████████████████████████████████████████████████████████████████████████████████████████| 22/22 [00:00<00:00, 2379.19it/s]\n"
     ]
    }
   ],
   "source": [
    "histo_level_labels, histo_level_preds, pat_level_labels, pat_level_preds =  get_levelled_preds(data, prediction_label=\"Prediction\", return_preds=True)"
   ]
  },
  {
   "cell_type": "code",
   "execution_count": 36,
   "id": "3729da8d-c9fe-4a0f-bdb4-7c28cdcced73",
   "metadata": {},
   "outputs": [
    {
     "data": {
      "image/png": "[encoded data removed]",
      "text/plain": [
       "<Figure size 250x250 with 1 Axes>"
      ]
     },
     "metadata": {},
     "output_type": "display_data"
    }
   ],
   "source": [
    "fig, ax = plt.subplots(1, figsize=(2.5, 2.5))\n",
    "#feature_imp.rename({\"Tumor Thickness [mm]\": \"Tumor\\nthickness\"}, inplace=True, axis=1)\n",
    "sns.barplot(feature_imp, color=\"#ff8800\", alpha=0.8, ax=ax, edgecolor=\"0.\", orient=\"h\")\n",
    "    #plt.title(f'Feature importance of Random Forest with\\nleave-one-patient-out approach')\n",
    "ax.set_title('RFC feature importance')\n",
    "#axs[0].set_xticklabels(axs[0].get_xticklabels(), rotation=45, ha='right')\n",
    "plt.savefig(\"../result_plots/fimp.svg\", bbox_inches=\"tight\")"
   ]
  },
  {
   "cell_type": "code",
   "execution_count": 37,
   "id": "a2f059cf-d61c-44a8-b243-f0fb6ee023a8",
   "metadata": {},
   "outputs": [
    {
     "data": {
      "text/plain": [
       "<Figure size 640x480 with 0 Axes>"
      ]
     },
     "metadata": {},
     "output_type": "display_data"
    },
    {
     "data": {
      "image/png": "[encoded data removed]",
      "text/plain": [
       "<Figure size 250x250 with 1 Axes>"
      ]
     },
     "metadata": {},
     "output_type": "display_data"
    }
   ],
   "source": [
    "plt.clf()\n",
    "fig, ax = plt.subplots(1, figsize=(2.5, 2.5))\n",
    "\n",
    "get_roc_auc(ax, data[\"PFS < 5\"], data[\"Prediction\"], label=\"Melc image-level\", color=sns.color_palette(\"dark:#5A9_r\", 3)[0])\n",
    "#get_roc_auc(ax, histo_level_labels, histo_level_preds, label=\"Section-level\", color=sns.color_palette(\"dark:#5A9_r\", 3)[1])\n",
    "get_roc_auc(ax, pat_level_labels, pat_level_preds, label=\"Patient-level\", color=sns.color_palette(\"dark:#5A9_r\", 3)[2])\n",
    "\n",
    "#axs[0].text(-0.2, -0.9, \"c\", ha='center', va='bottom', weight=\"bold\", size=12)\n",
    "#axs[1].text(0, 1.07, \"d\", ha='center', va='bottom', weight=\"bold\")\n",
    "#axs[2].text(0, 1.07, \"e\", ha='center', va='bottom', weight=\"bold\")\n",
    "\n",
    "ax.set_title(\"CNN ROC\")\n",
    "#axs[1].text(-0.45, 1.15, \"d\", ha='center', va='bottom', weight=\"bold\", size=12)\n",
    "\n",
    "#plt.subplots_adjust(hspace=0.4)\n",
    "#axs[1].set_title(\"Section-level\")\n",
    "#axs[2].set_title(\"Patient-level\")\n",
    "#plt.tight_layout()\n",
    "plt.savefig(\"../result_plots/ROCS.svg\", bbox_inches=\"tight\")"
   ]
  },
  {
   "cell_type": "code",
   "execution_count": 39,
   "id": "0e058e30-b0c6-4953-bd2f-40d9731a028d",
   "metadata": {},
   "outputs": [
    {
     "data": {
      "text/plain": [
       "<Figure size 640x480 with 0 Axes>"
      ]
     },
     "metadata": {},
     "output_type": "display_data"
    },
    {
     "data": {
      "image/png": "[encoded data removed]",
      "text/plain": [
       "<Figure size 550x300 with 2 Axes>"
      ]
     },
     "metadata": {},
     "output_type": "display_data"
    }
   ],
   "source": [
    "plt.clf()\n",
    "palette = sns.light_palette(\"green\", as_cmap=True)\n",
    "f, axs = plt.subplots(1, 2, sharey=True, figsize=(5.5, 3))\n",
    "#accs.drop([\"Section-level\"], axis=1, inplace=True)\n",
    "#auc_rocs.drop([\"Section-level\"], axis=1, inplace=True)\n",
    "\n",
    "accs.rename({\"Sample-level\": \"MELC image-level\"}, inplace=True, axis=1)\n",
    "auc_rocs.rename({\"Sample-level\": \"MELC image-level\"}, inplace=True, axis=1)\n",
    "\n",
    "sns.heatmap(accs, annot=True, square=True, cbar=False, ax=axs[0], cmap=palette, vmin=0.5, vmax=1)\n",
    "sns.heatmap(auc_rocs, annot=True, square=True, cbar=False, ax=axs[1], cmap=palette, vmin=0.5, vmax=1)\n",
    "axs[1].get_yaxis().set_visible(False)\n",
    "axs[0].set_title(\"Accuracy\")\n",
    "axs[1].set_title(\"ROC-AUC\")\n",
    "#axs[0].text(-6, -0.1, \"a\", ha='center', va='bottom', weight=\"bold\")\n",
    "plt.subplots_adjust(wspace=-0.5)\n",
    "#plt.tight_layout()\n",
    "plt.savefig(\"../result_plots/Acc.svg\", bbox_inches=\"tight\")"
   ]
  },
  {
   "cell_type": "code",
   "execution_count": 40,
   "id": "f4d89e73-2868-4ed9-bdd6-eff1713bc3cf",
   "metadata": {},
   "outputs": [
    {
     "name": "stderr",
     "output_type": "stream",
     "text": [
      "100%|███████████████████████████████████████████████████████████████████████████████████████████████████████████████████████████████████████████████| 22/22 [00:07<00:00,  2.87it/s]\n"
     ]
    }
   ],
   "source": [
    "model = ResNet18_smoothgrad(indim=len(markers), cam=True, checkpoint_path=checkpoint_path)\n",
    "model = model.to(\"cuda:0\")\n",
    "finetuned_models = os.listdir(finetuned_models_path)\n",
    "data[\"Prediction LO\"] = np.nan\n",
    "subsets = list()\n",
    "\n",
    "for split in tqdm(splits):\n",
    "    if split not in [0, 1, 2, 5, 8, 13, 18]:\n",
    "        continue\n",
    "    data_subset = data[data[\"Histo ID\"].isin(splits[split])]\n",
    "    if len(data_subset) == 0:\n",
    "        continue\n",
    "    dl = t.utils.data.DataLoader(MelanomaData(markers, pretrain=False, data=data_subset, mode=\"val\", config_path=config_path), batch_size=1, shuffle=False)\n",
    "    model_path = [m for m in finetuned_models if f\"finetuned_{split}\" in m][0]\n",
    "    model.load_state_dict(t.load(os.path.join(finetuned_models_path, model_path), map_location=\"cuda:0\"), strict=True)\n",
    "    model.eval()\n",
    "    it = iter(dl)\n",
    "    preds = list()\n",
    "    for i in range(len(data_subset)):\n",
    "        x, y, _ = next(it)\n",
    "        y_pred = model(x.cuda()).detach().cpu().numpy().item()\n",
    "        preds.append(y_pred)     \n",
    "    data.loc[data[\"Histo ID\"].isin(splits[split]), \"Prediction LO\"] = preds"
   ]
  },
  {
   "cell_type": "code",
   "execution_count": 43,
   "id": "15c2dfd0-e201-4f83-9879-99174770c283",
   "metadata": {
    "scrolled": true
   },
   "outputs": [
    {
     "name": "stdout",
     "output_type": "stream",
     "text": [
      "12\n"
     ]
    },
    {
     "name": "stderr",
     "output_type": "stream",
     "text": [
      "100%|█████████████████████████████████████████████████████████████████████████████████████████████████████████████████████████████████████████████| 22/22 [00:00<00:00, 3650.54it/s]\n",
      "100%|█████████████████████████████████████████████████████████████████████████████████████████████████████████████████████████████████████████████| 22/22 [00:00<00:00, 3133.69it/s]\n"
     ]
    },
    {
     "data": {
      "text/html": [
       "<div>\n",
       "<style scoped>\n",
       "    .dataframe tbody tr th:only-of-type {\n",
       "        vertical-align: middle;\n",
       "    }\n",
       "\n",
       "    .dataframe tbody tr th {\n",
       "        vertical-align: top;\n",
       "    }\n",
       "\n",
       "    .dataframe thead th {\n",
       "        text-align: right;\n",
       "    }\n",
       "</style>\n",
       "<table border=\"1\" class=\"dataframe\">\n",
       "  <thead>\n",
       "    <tr style=\"text-align: right;\">\n",
       "      <th></th>\n",
       "      <th>MELC image-level</th>\n",
       "      <th>Patient-level</th>\n",
       "    </tr>\n",
       "  </thead>\n",
       "  <tbody>\n",
       "    <tr>\n",
       "      <th>Pre-training on all</th>\n",
       "      <td>0.833333</td>\n",
       "      <td>1.0</td>\n",
       "    </tr>\n",
       "    <tr>\n",
       "      <th>Pre-training without CV sample</th>\n",
       "      <td>0.666667</td>\n",
       "      <td>1.0</td>\n",
       "    </tr>\n",
       "  </tbody>\n",
       "</table>\n",
       "</div>"
      ],
      "text/plain": [
       "                                MELC image-level  Patient-level\n",
       "Pre-training on all                     0.833333            1.0\n",
       "Pre-training without CV sample          0.666667            1.0"
      ]
     },
     "execution_count": 43,
     "metadata": {},
     "output_type": "execute_result"
    }
   ],
   "source": [
    "dfs = dict()\n",
    "lo_accs = dict()\n",
    "lo_auc_rocs = dict()\n",
    "subset = data.dropna(subset=[\"Prediction LO\"])\n",
    "subset = data[data[\"Histo ID\"].isin(splits[1] + splits[2] + splits[0] + splits[13])]\n",
    "\n",
    "print(len(subset))\n",
    "for prediction_label in ['Prediction', 'Prediction LO']:\n",
    "    res = get_levelled_preds(subset, prediction_label)\n",
    "    dfs[prediction_label] = res\n",
    "    lo_accs[prediction_label] = pd.DataFrame(res.loc[\"Accuracy\"])\n",
    "    lo_auc_rocs[prediction_label] = pd.DataFrame(res.loc[\"AUC-ROC\"])\n",
    "lo_accs = pd.concat(lo_accs, axis=1).T.reset_index().drop(\"level_1\", axis=1).set_index(\"level_0\")\n",
    "lo_auc_rocs = pd.concat(lo_auc_rocs, axis=1).T.reset_index().drop(\"level_1\", axis=1).set_index(\"level_0\")\n",
    "\n",
    "lo_accs.drop([\"Section-level\"], axis=1, inplace=True)\n",
    "lo_auc_rocs.drop([\"Section-level\"], axis=1, inplace=True)\n",
    "\n",
    "lo_accs.rename({\"Sample-level\": \"MELC image-level\"}, inplace=True, axis=1)\n",
    "lo_auc_rocs.rename({\"Sample-level\": \"MELC image-level\"}, inplace=True, axis=1)\n",
    "\n",
    "lo_accs.index = [\"Pre-training on all\", \"Pre-training without CV sample\"]\n",
    "lo_auc_rocs.index = [\"Pre-training on all\", \"Pre-training without CV sample\"]\n",
    "\n",
    "lo_accs"
   ]
  },
  {
   "cell_type": "code",
   "execution_count": 44,
   "id": "9642cea8-b6a0-445c-b320-b955dba0ff58",
   "metadata": {},
   "outputs": [
    {
     "name": "stdout",
     "output_type": "stream",
     "text": [
      "\\begin{tabular}{llrrr}\n",
      "\\toprule\n",
      " &  & Sample-level & Section-level & Patient-level \\\\\n",
      "\\midrule\n",
      "\\multirow[t]{5}{*}{Prediction} & Accuracy & 0.830000 & 1.000000 & 1.000000 \\\\\n",
      " & AUC-ROC & 0.970000 & 1.000000 & 1.000000 \\\\\n",
      " & F1-score & 0.750000 & 1.000000 & 1.000000 \\\\\n",
      " & Specificity & 0.880000 & 1.000000 & 1.000000 \\\\\n",
      " & Sensitivity & 0.750000 & 1.000000 & 1.000000 \\\\\n",
      "\\cline{1-5}\n",
      "\\multirow[t]{5}{*}{Prediction LO} & Accuracy & 0.670000 & 1.000000 & 1.000000 \\\\\n",
      " & AUC-ROC & 0.810000 & 1.000000 & 1.000000 \\\\\n",
      " & F1-score & 0.500000 & 1.000000 & 1.000000 \\\\\n",
      " & Specificity & 0.750000 & 1.000000 & 1.000000 \\\\\n",
      " & Sensitivity & 0.500000 & 1.000000 & 1.000000 \\\\\n",
      "\\cline{1-5}\n",
      "\\bottomrule\n",
      "\\end{tabular}\n",
      "\n"
     ]
    }
   ],
   "source": [
    "print(pd.concat(dfs).round(2).to_latex())"
   ]
  },
  {
   "cell_type": "code",
   "execution_count": 51,
   "id": "0cb17013-b8a5-4375-8334-4ff6609acd5d",
   "metadata": {},
   "outputs": [
    {
     "data": {
      "text/plain": [
       "<Figure size 640x480 with 0 Axes>"
      ]
     },
     "metadata": {},
     "output_type": "display_data"
    },
    {
     "data": {
      "image/png": "[encoded data removed]",
      "text/plain": [
       "<Figure size 500x300 with 2 Axes>"
      ]
     },
     "metadata": {},
     "output_type": "display_data"
    }
   ],
   "source": [
    "plt.clf()\n",
    "palette = sns.light_palette(\"green\", as_cmap=True)\n",
    "\n",
    "f, axs = plt.subplots(2, figsize=(5, 3), sharex=True)\n",
    "sns.heatmap(lo_accs, annot=True, square=True, cbar=False, ax=axs[0], cmap=palette, vmin=0.5, vmax=1)\n",
    "sns.heatmap(lo_auc_rocs, annot=True, square=True, cbar=False, ax=axs[1], cmap=palette, vmin=0.5, vmax=1)\n",
    "axs[0].get_xaxis().set_visible(False)\n",
    "axs[0].set_title(\"Accuracy\")\n",
    "axs[1].set_title(\"\\nROC-AUC\")\n",
    "#axs[0].text(-4.8, -0.2, \"b\", ha='center', va='bottom', weight=\"bold\")\n",
    "plt.subplots_adjust(hspace=0.5)\n",
    "plt.savefig(\"../result_plots/LO.svg\", bbox_inches=\"tight\")\n",
    "plt.show()"
   ]
  },
  {
   "cell_type": "code",
   "execution_count": 46,
   "id": "265212d2-f673-4b55-9f34-ebfe25a6c730",
   "metadata": {},
   "outputs": [],
   "source": [
    "data_subset1 = data[(data[\"Sex\"] == 0)]\n",
    "data_subset2 = data[(data[\"Sex\"] == 1)]\n",
    "data_subset3 = data[(data[\"Age\"].astype(int) <= 62)]\n",
    "data_subset4 = data[(data[\"Age\"].astype(int) > 62)]"
   ]
  },
  {
   "cell_type": "code",
   "execution_count": 50,
   "id": "a56b68a3-9544-4239-9c3a-fab94f2b8347",
   "metadata": {},
   "outputs": [
    {
     "name": "stderr",
     "output_type": "stream",
     "text": [
      "100%|█████████████████████████████████████████████████████████████████████████████████████████████████████████████████████████████████████████████| 22/22 [00:00<00:00, 3257.83it/s]\n",
      "100%|█████████████████████████████████████████████████████████████████████████████████████████████████████████████████████████████████████████████| 22/22 [00:00<00:00, 3406.86it/s]\n",
      "100%|█████████████████████████████████████████████████████████████████████████████████████████████████████████████████████████████████████████████| 22/22 [00:00<00:00, 3234.98it/s]\n",
      "100%|█████████████████████████████████████████████████████████████████████████████████████████████████████████████████████████████████████████████| 22/22 [00:00<00:00, 3465.33it/s]\n",
      "100%|█████████████████████████████████████████████████████████████████████████████████████████████████████████████████████████████████████████████| 22/22 [00:00<00:00, 3443.34it/s]\n",
      "100%|█████████████████████████████████████████████████████████████████████████████████████████████████████████████████████████████████████████████| 22/22 [00:00<00:00, 3503.35it/s]\n",
      "100%|█████████████████████████████████████████████████████████████████████████████████████████████████████████████████████████████████████████████| 22/22 [00:00<00:00, 3081.06it/s]\n",
      "100%|█████████████████████████████████████████████████████████████████████████████████████████████████████████████████████████████████████████████| 22/22 [00:00<00:00, 3095.12it/s]\n",
      "100%|█████████████████████████████████████████████████████████████████████████████████████████████████████████████████████████████████████████████| 22/22 [00:00<00:00, 3107.52it/s]\n",
      "100%|█████████████████████████████████████████████████████████████████████████████████████████████████████████████████████████████████████████████| 22/22 [00:00<00:00, 3147.16it/s]\n",
      "100%|█████████████████████████████████████████████████████████████████████████████████████████████████████████████████████████████████████████████| 22/22 [00:00<00:00, 3111.08it/s]\n",
      "100%|█████████████████████████████████████████████████████████████████████████████████████████████████████████████████████████████████████████████| 22/22 [00:00<00:00, 3139.13it/s]\n",
      "100%|█████████████████████████████████████████████████████████████████████████████████████████████████████████████████████████████████████████████| 22/22 [00:00<00:00, 3096.78it/s]\n",
      "100%|█████████████████████████████████████████████████████████████████████████████████████████████████████████████████████████████████████████████| 22/22 [00:00<00:00, 3010.50it/s]\n",
      "100%|█████████████████████████████████████████████████████████████████████████████████████████████████████████████████████████████████████████████| 22/22 [00:00<00:00, 2981.80it/s]\n",
      "100%|█████████████████████████████████████████████████████████████████████████████████████████████████████████████████████████████████████████████| 22/22 [00:00<00:00, 3087.66it/s]\n",
      "100%|█████████████████████████████████████████████████████████████████████████████████████████████████████████████████████████████████████████████| 22/22 [00:00<00:00, 3125.41it/s]\n",
      "100%|█████████████████████████████████████████████████████████████████████████████████████████████████████████████████████████████████████████████| 22/22 [00:00<00:00, 3102.19it/s]\n",
      "100%|█████████████████████████████████████████████████████████████████████████████████████████████████████████████████████████████████████████████| 22/22 [00:00<00:00, 3371.13it/s]\n",
      "100%|█████████████████████████████████████████████████████████████████████████████████████████████████████████████████████████████████████████████| 22/22 [00:00<00:00, 3379.28it/s]\n",
      "100%|█████████████████████████████████████████████████████████████████████████████████████████████████████████████████████████████████████████████| 22/22 [00:00<00:00, 3456.11it/s]\n",
      "100%|█████████████████████████████████████████████████████████████████████████████████████████████████████████████████████████████████████████████| 22/22 [00:00<00:00, 3430.80it/s]\n",
      "100%|█████████████████████████████████████████████████████████████████████████████████████████████████████████████████████████████████████████████| 22/22 [00:00<00:00, 3393.08it/s]\n",
      "100%|█████████████████████████████████████████████████████████████████████████████████████████████████████████████████████████████████████████████| 22/22 [00:00<00:00, 3398.20it/s]\n"
     ]
    },
    {
     "data": {
      "image/png": "[encoded data removed]",
      "text/plain": [
       "<Figure size 1000x800 with 8 Axes>"
      ]
     },
     "metadata": {},
     "output_type": "display_data"
    }
   ],
   "source": [
    "f, axs = plt.subplots(2, 4, sharex=True, sharey=True, figsize=(10, 8))\n",
    "\n",
    "for i, data_subset in enumerate([data_subset1, data_subset2, data_subset3, data_subset4]):\n",
    "    dfs = dict()\n",
    "    accs = dict()\n",
    "    auc_rocs = dict()\n",
    "    for prediction_label in ['RFC all features', 'RFC TT', 'RFC w/o TT',  \"Biased random classifier\",\"Patient-level biased random classifier\",  'Prediction']:\n",
    "        res = get_levelled_preds(data_subset, prediction_label)\n",
    "        dfs[prediction_label] = res\n",
    "        accs[prediction_label] = pd.DataFrame(res.loc[\"Accuracy\"])\n",
    "        auc_rocs[prediction_label] = pd.DataFrame(res.loc[\"AUC-ROC\"])\n",
    "    accs = pd.concat(accs, axis=1).T.reset_index().drop(\"level_1\", axis=1).set_index(\"level_0\")\n",
    "    auc_rocs = pd.concat(auc_rocs, axis=1).T.reset_index().drop(\"level_1\", axis=1).set_index(\"level_0\")\n",
    "    accs.iloc[0:3, 0] = np.nan\n",
    "    auc_rocs.iloc[0:3, 0] = np.nan\n",
    "    accs.index =   [\"RFC on all meta variables\", \"RFC on tumor thickness only\", \"RFC on all, tumor thickness excluded\", \"Biased random classifier\", \"Patient-level biased random classifier\", \"Cross-validated CNN\"]\n",
    "    auc_rocs.index =  [\"RFC on all meta variables\", \"RFC on tumor thickness only\", \"RFC on all, tumor thickness excluded\", \"Biased random classifier\", \"Patient-level biased random classifier\", \"Cross-validated CNN\"]\n",
    "    accs.drop([\"Section-level\"], axis=1, inplace=True)\n",
    "    auc_rocs.drop([\"Section-level\"], axis=1, inplace=True)\n",
    "\n",
    "    accs.rename({\"Sample-level\": \"MELC image-level\"}, inplace=True, axis=1)\n",
    "    auc_rocs.rename({\"Sample-level\": \"MELC image-level\"}, inplace=True, axis=1)\n",
    "\n",
    "    \n",
    "    palette = sns.light_palette(\"green\", as_cmap=True)\n",
    "    ax0 = axs[i // 4, i]\n",
    "    ax1 = axs[i // 4 + 1, i]\n",
    "    sns.heatmap(accs, annot=True, square=True, cbar=False, ax=ax0, cmap=palette, vmin=0.5, vmax=1)\n",
    "    sns.heatmap(auc_rocs, annot=True, square=True, cbar=False, ax=ax1, cmap=palette, vmin=0.5, vmax=1)\n",
    "    ax0.set_title(\"Accuracy\")\n",
    "    ax1.set_title(\"ROC-AUC\")\n",
    "    #axs[i // 2, i % 2].get_yaxis().set_visible(False)\n",
    "\n",
    "    #axs[0].text(-6, -0.1, \"a\", ha='center', va='bottom', weight=\"bold\")\n",
    "axs[0, 0].set_title(\"Females\\nAccuracy\")\n",
    "axs[0, 1].set_title(\"Males\\nAccuracy\")\n",
    "axs[0, 2].set_title(\"$Age \\leq 62y$,\\nAccuracy\")\n",
    "axs[0, 3].set_title(\"$Age > 62y$,\\nAccuracy\")\n",
    "plt.subplots_adjust(wspace=1)\n",
    "plt.savefig(\"../result_plots/gender_age_wise_performace.svg\", bbox_inches=\"tight\")"
   ]
  },
  {
   "cell_type": "code",
   "execution_count": 48,
   "id": "2993fa6c-31a2-4186-8467-d8547560ea32",
   "metadata": {},
   "outputs": [
    {
     "data": {
      "text/html": [
       "<div>\n",
       "<style scoped>\n",
       "    .dataframe tbody tr th:only-of-type {\n",
       "        vertical-align: middle;\n",
       "    }\n",
       "\n",
       "    .dataframe tbody tr th {\n",
       "        vertical-align: top;\n",
       "    }\n",
       "\n",
       "    .dataframe thead th {\n",
       "        text-align: right;\n",
       "    }\n",
       "</style>\n",
       "<table border=\"1\" class=\"dataframe\">\n",
       "  <thead>\n",
       "    <tr style=\"text-align: right;\">\n",
       "      <th></th>\n",
       "      <th>MELC image-level</th>\n",
       "      <th>Patient-level</th>\n",
       "    </tr>\n",
       "  </thead>\n",
       "  <tbody>\n",
       "    <tr>\n",
       "      <th>RFC on all meta variables</th>\n",
       "      <td>NaN</td>\n",
       "      <td>1.000000</td>\n",
       "    </tr>\n",
       "    <tr>\n",
       "      <th>RFC on tumor thickness only</th>\n",
       "      <td>NaN</td>\n",
       "      <td>0.777778</td>\n",
       "    </tr>\n",
       "    <tr>\n",
       "      <th>RFC on all, tumor thickness excluded</th>\n",
       "      <td>NaN</td>\n",
       "      <td>0.888889</td>\n",
       "    </tr>\n",
       "    <tr>\n",
       "      <th>RFC on deep model features</th>\n",
       "      <td>0.890909</td>\n",
       "      <td>0.666667</td>\n",
       "    </tr>\n",
       "    <tr>\n",
       "      <th>Cross-validated CNN</th>\n",
       "      <td>0.836364</td>\n",
       "      <td>0.777778</td>\n",
       "    </tr>\n",
       "    <tr>\n",
       "      <th>Biased random classifier</th>\n",
       "      <td>0.854545</td>\n",
       "      <td>0.777778</td>\n",
       "    </tr>\n",
       "  </tbody>\n",
       "</table>\n",
       "</div>"
      ],
      "text/plain": [
       "                                      MELC image-level  Patient-level\n",
       "RFC on all meta variables                          NaN       1.000000\n",
       "RFC on tumor thickness only                        NaN       0.777778\n",
       "RFC on all, tumor thickness excluded               NaN       0.888889\n",
       "RFC on deep model features                    0.890909       0.666667\n",
       "Cross-validated CNN                           0.836364       0.777778\n",
       "Biased random classifier                      0.854545       0.777778"
      ]
     },
     "execution_count": 48,
     "metadata": {},
     "output_type": "execute_result"
    }
   ],
   "source": [
    "accs"
   ]
  },
  {
   "cell_type": "code",
   "execution_count": null,
   "id": "fd08139d-e08f-48aa-b6d2-708fbfe41083",
   "metadata": {},
   "outputs": [],
   "source": []
  }
 ],
 "metadata": {
  "kernelspec": {
   "display_name": "Python 3 (ipykernel)",
   "language": "python",
   "name": "python3"
  },
  "language_info": {
   "codemirror_mode": {
    "name": "ipython",
    "version": 3
   },
   "file_extension": ".py",
   "mimetype": "text/x-python",
   "name": "python",
   "nbconvert_exporter": "python",
   "pygments_lexer": "ipython3",
   "version": "3.9.19"
  }
 },
 "nbformat": 4,
 "nbformat_minor": 5
}
